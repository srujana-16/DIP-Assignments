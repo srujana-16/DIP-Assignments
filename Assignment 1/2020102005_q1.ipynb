{
  "nbformat": 4,
  "nbformat_minor": 0,
  "metadata": {
    "colab": {
      "provenance": [],
      "collapsed_sections": []
    },
    "kernelspec": {
      "name": "python3",
      "display_name": "Python 3"
    },
    "language_info": {
      "name": "python"
    }
  },
  "cells": [
    {
      "cell_type": "markdown",
      "source": [
        "# **Assignment 1** \n",
        "# Srujana Vanka  - 2020102005\n"
      ],
      "metadata": {
        "id": "kBYyNzO5NUj9"
      }
    },
    {
      "cell_type": "markdown",
      "source": [
        "## Question 1"
      ],
      "metadata": {
        "id": "NnNFHUzNNWan"
      }
    },
    {
      "cell_type": "markdown",
      "source": [],
      "metadata": {
        "id": "hhnRmjb-RODa"
      }
    },
    {
      "cell_type": "markdown",
      "source": [
        "### Part 1"
      ],
      "metadata": {
        "id": "D-CaHj2NOQBf"
      }
    },
    {
      "cell_type": "markdown",
      "source": [
        "**Given**\n",
        "\n",
        "Size of the image = $5.76MB$\n",
        "\n",
        "Aspect ration = height $:$ width $= 4:3$ \\\n",
        "\n",
        "$\\therefore$ Pixel resolution = Total number of pixels $= (4x)(3x) = 12x^2 $ <br> \\\n",
        "There are 3 channels in each pixel and each channel has 1 byte of information stored.Therefore, each pixel requires 3 bytes each to store the information of any given image. \\\n",
        "$\\therefore$ Number of bits per pixel = 24  bits\n",
        "\n",
        "\n",
        "<center> \n",
        " $Size = pixel~resolution ∗ bits~per~pixel$\n",
        "\n",
        "$5.76*10^6*8~=~4x*3x*24 \\\\ 9x^2~=~1.44*10^6\\\\x^2~=~0.16*10^6\\\\x~=~400$  \n",
        "\n",
        "$\\therefore$ height of image = $ 4*x = 4*400 = 1600$ pixels \\\\\n",
        "width of image = $ 3*x = 3*400 = 1200$ pixels\n",
        "\n"
      ],
      "metadata": {
        "id": "BCLp6LjmOURH"
      }
    },
    {
      "cell_type": "markdown",
      "source": [
        "### Part 2"
      ],
      "metadata": {
        "id": "8r8o3zZ7RPmW"
      }
    },
    {
      "cell_type": "markdown",
      "source": [
        "**Given**\n",
        "\n",
        "Number of pixels of side length =5200. \\\n",
        "Since it is a square, total number of pixels = $(5200)^2 = 2704*{10}^4 pixels $\n",
        "\n",
        "Maximum number of images to be taken = 2000\n",
        "\n",
        "**(a) Black and White images (0 for black and 1 for white)**\n",
        "\n",
        "Each pixel value = 2 bits (as each pixel can either be 0 or 1)\n",
        "\n",
        "<center>\n",
        "\n",
        "Storage space for each image = $S$ = $2*704*{10}^4$ $=5408*10^4 bits$\n",
        "\n",
        "$\\therefore$ For 2000 images storage space = $2000*S =$ $10816 * 10^7 bits$\n",
        "</center>\n",
        "\n",
        "Converting to GB by dividing by $8*10^9 = Storage = 1352*10^{-2} = 13.52GB $\n",
        "\n",
        "Number of memory cards required (each memory card is 64GB) = $ \\Big\\lceil \\frac{13.52}{64}\\Big\\rceil = 1$\n",
        "\n",
        "$\\therefore$ **1** memory card is needed.\n",
        "\n",
        "**(b) Gray scale images**\n",
        "\n",
        "Each pixel value = 1 byte = 8 bits\n",
        "<center>\n",
        "\n",
        "Storage space required for 1 image $S$ = $ 8*N $ = $8*2704*10^4 bits$ \n",
        "\n",
        "$\\therefore$ For 2000 images storage space size = $2000*S$ $=2000*8*2704*10^4$\n",
        "\n",
        "</center>\n",
        "Converting to GB by dividing by $8*10^9 = Storage~ $$= 54.08 GB$ \n",
        "\n",
        "Number of memory cards required (each memory card is 64GB) = $ \\Big\\lceil \\frac{54.08}{64}\\Big\\rceil = 1$ \\\n",
        "$\\therefore$ **1** memory card is needed.\n",
        "\n",
        "\n",
        "**(c) Colored images**\n",
        "Each pixel has 3 channels each of 1 byte. \\\n",
        "$\\therefore$ 1 pixel = 3 bytes\n",
        "<center>\n",
        "Storage space required for 1 image $S$ = $ 3*N $ = $8112*10^4 bytes$ \\\n",
        "\n",
        "For 2000 images storage space size $S$= $2000*A$ $=2000*8112*10^4$ \n",
        "</center>\n",
        "Converting to GB by dividing by $8*10^9 = Storage~ S = 162.24 GB$ \n",
        "\n",
        "Number of memory cards required (each memory card is 64GB) = $ \\Big\\lceil \\frac{162.24}{64}\\Big\\rceil  = 3 \n",
        "\n",
        "$\\therefore$ **3** memory card is needed."
      ],
      "metadata": {
        "id": "u1Sb0qO3SP7V"
      }
    },
    {
      "cell_type": "markdown",
      "source": [
        "### Part 3"
      ],
      "metadata": {
        "id": "eAmKMMOARfbi"
      }
    },
    {
      "cell_type": "markdown",
      "source": [
        "Resolution is the number of pixels that can be used given a length.\n",
        "We are aware that the amount of pixels on the screen ia the same when compared to a billboard. However the length of the screen is much smaller than the bill-board.\n",
        "\n",
        "Although the number of pixels is the same, because in increase in size, the resolution decreases and thus, the size of the pixel increases which makes it blur."
      ],
      "metadata": {
        "id": "EmXY0u5oRg7n"
      }
    }
  ]
}